{
 "cells": [
  {
   "cell_type": "markdown",
   "metadata": {},
   "source": [
    "# Assignment #04"
   ]
  },
  {
   "cell_type": "markdown",
   "metadata": {},
   "source": [
    "## Downloading TAWES data from the GeoSphere Austria Data Hub"
   ]
  },
  {
   "cell_type": "markdown",
   "metadata": {
    "hidePrompt": true
   },
   "source": [
    "Many datasets of the Austrian weather service [GeoSphere Austria](https://geosphere.at) can be downloaded via their [Data Hub](https://geosphere.at/de/daten/datenzentrum/data-hub), either through a web interface or through an [API](https://realpython.com/ref/glossary/api/). In this assignment, we are going to use the API to access [data from the TAWES station network](https://data.hub.geosphere.at/dataset/tawes-v1-10min).\n",
    "\n",
    "The [API documentation](https://dataset.api.hub.geosphere.at/v1/docs/index.html) provides information on how the URL (or API endpoint) is constructed for data access:\n",
    "\n",
    "`<host>/<version>/<type>/<mode>/<resource_id>`, where\n",
    "\n",
    "`<host>` is `https://dataset.api.hub.geosphere.at`\n",
    "\n",
    "`<version>` is `v1`\n",
    "\n",
    "`<type>` is either `grid`, `timeseries` or `station` (we are only using `station` in our assignment)\n",
    "\n",
    "`<mode>` is ither `historical`, `current` or `forecast` (we are using `current` and `historical`)\n",
    "\n",
    "`<resource_id>` is the dataset (we are going to use `tawes-v1-10min`)\n",
    "\n",
    "\n",
    "**A. Write a script `download_geosphere_tawes.py` that, given a single station ID (e.g., 11320 for Innsbruck University) and parameter (e.g., `TL` for air temperature), downloads the current data point (`<mode>` is `current`) and prints the result in the command line.** Format the output nicely by including, e.g., the units, the time stamp, and station number. You can find a list of stations and parameters in the interactive web download portal.\n",
    "\n",
    "*Hint A1:* Unlike Assignement #03, where we asked for user input, here we are asking for a script with [command line arguments](https://docs.python.org/3/tutorial/stdlib.html?highlight=sys%20argv#command-line-arguments). The command `%run download_geosphere_tawes.py TL 11320` (in an IPython interpreter) should download the current air temperature for station 11320. Although `argparse` is more robust (and much better) than parsing `sys.argv` yourself, for the purpose of learning you should use `sys.argv` today and handle the command line arguments yourselves.\n",
    "\n",
    "*Hint A2:* To access the data through the API you can use `response = requests.get(url, params={key: value})`, where the dictionary `params` includes the keys `station_ids` and `parameters` with the values taken from the input provided by the user. Make sure to install and import the requests package first.\n",
    "\n",
    "*Hint A3:* What you are downloading is a [JSON object](https://realpython.com/ref/glossary/json/), which is similar to a Python dictionary and can (and in our case does) consist of multiple nested dictionaries and arrays that contain the data and metadata (e.g., units and timestamp). Have a look at this [short example](https://realpython.com/ref/glossary/api/) on how to retrieve the JSON data from `response`.\n",
    "\n",
    "**B.** Extend the script to **check if the data download was successful** before proceeding with printing the output. If not, print an error message and exit the script.\n",
    "\n",
    "**C.** Extend the functionality of your script to **download the historical timeseries (`<mode>` is `historical`) instead of just the current value and save the timeseris to a csv file if two additional command-line arguments (start and end time) are provided**, e.g., `%run download_geosphere_tawes.py TL 11320 2025-08-01T00:00 2025-10-01T00:00`. Note that the [TAWES dataset](https://data.hub.geosphere.at/dataset/tawes-v1-10min) that we are using contains data only up to 3 months into the past (and the data are not quality-controlled).\n",
    "\n",
    "*Hint C1:* You can use \n",
    "```python\n",
    "import pandas as pd\n",
    "pd.Series(index=time, data=value).to_csv(datafile, header=False)\n",
    "```\n",
    "to save the data to a file `datafile`, where `time` is a list of all timestamps and `data` is a list with all the data values.\n",
    "\n",
    "**C1.** Include a check to make sure that the start and end times provided by the user are formatted correctly (YYYY-mm-ddTHH:MM). Print an error messaage and exit the script if that is not the case.\n",
    "\n",
    "**C2.** Give the user the possibility to specify the folder, where the data should be stored, by providing an optional command-line argument (`--output-dir /path/to/a/dir`). If the directory does not exist, print an error message and exit the script. If the user does not specify an output directory, use a default value.\n",
    "\n",
    "**C3 (optional).** Plot the timeseries and add another optional command-line argument (`--create_plot`) that allows the user to choose whether they want a plot to be created or not.\n",
    "\n",
    "**D.** Structure your code into several functions (think about which parts of the code could make up meaningful functions) and use a \n",
    "```python\n",
    "if __name__ == '__main__':\n",
    "```\n",
    "block in your code."
   ]
  },
  {
   "cell_type": "code",
   "execution_count": null,
   "metadata": {},
   "outputs": [],
   "source": []
  }
 ],
 "metadata": {
  "hide_input": false,
  "kernelspec": {
   "display_name": "Python 3 (ipykernel)",
   "language": "python",
   "name": "python3"
  },
  "language_info": {
   "codemirror_mode": {
    "name": "ipython",
    "version": 3
   },
   "file_extension": ".py",
   "mimetype": "text/x-python",
   "name": "python",
   "nbconvert_exporter": "python",
   "pygments_lexer": "ipython3",
   "version": "3.13.7"
  },
  "latex_envs": {
   "LaTeX_envs_menu_present": true,
   "autoclose": false,
   "autocomplete": true,
   "bibliofile": "biblio.bib",
   "cite_by": "apalike",
   "current_citInitial": 1,
   "eqLabelWithNumbers": true,
   "eqNumInitial": 1,
   "hotkeys": {
    "equation": "Ctrl-E",
    "itemize": "Ctrl-I"
   },
   "labels_anchors": false,
   "latex_user_defs": false,
   "report_style_numbering": false,
   "user_envs_cfg": false
  },
  "nbTranslate": {
   "displayLangs": [
    "*"
   ],
   "hotkey": "alt-t",
   "langInMainMenu": true,
   "sourceLang": "en",
   "targetLang": "fr",
   "useGoogleTranslate": true
  },
  "toc": {
   "base_numbering": 1,
   "nav_menu": {},
   "number_sections": false,
   "sideBar": true,
   "skip_h1_title": false,
   "title_cell": "Table of Contents",
   "title_sidebar": "Contents",
   "toc_cell": false,
   "toc_position": {},
   "toc_section_display": "block",
   "toc_window_display": false
  }
 },
 "nbformat": 4,
 "nbformat_minor": 4
}
