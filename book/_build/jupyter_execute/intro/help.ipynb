{
 "cells": [
  {
   "cell_type": "markdown",
   "id": "26df98ed-c631-4a5f-91ae-b06dfe425fc3",
   "metadata": {},
   "source": [
    "# Getting help"
   ]
  },
  {
   "cell_type": "markdown",
   "id": "23c20eef-4438-45e8-93dc-8f8a1d80931c",
   "metadata": {},
   "source": [
    "Seeking information online is necessary and helpful for programmers of *any* level. You could even argue that the best programmers are the ones who know how to efficiently find information online.\n",
    "\n",
    "When encountering an issue, the first question you should ask yourself is: *\"am I the only person likely to be affected by this problem?\"*. **The answer will be no** in 99% of the cases. For these cases, here is a list of recommendations:\n",
    "- [Stack Overflow](https://stackoverflow.com/) is THE place for programming questions. Thanks to community based moderation rules, good questions are more visible than bad ones, and good answers are rewarded. [Take a tour](https://stackoverflow.com/tour) of the site's principles, and look for similar questions before asking your own one.\n",
    "- Learn to put the right question into your search engine. Using correct naming (semantics) is one of the objectives of this lecture, and in the end you will hopefully not only write better code, but will also *speak* the programming language a little better.\n",
    "- Use [ChatGPT](https://openai.com/chatgpt/) or similar AI assistants to ask specific questions instead of a web search. As we will see later in the semester, having ChatGPT write (parts of) your code, may not always yield the desired results, but asking specific questions can help you to find solutions to your coding problems.\n",
    "\n",
    "If every other thing fails (i.e the remaining 1% of the cases), then:\n",
    "- Ask a friend\n",
    "- Ask your professor\n",
    "- Ask a question on Stack Overflow. Before doing so, read what a [Minimal, Complete, and Verifiable Example](https://stackoverflow.com/help/mcve) is and try to stick to these recommendations.\n",
    "- If you think you discovered a bug, than report it to the library directly. Almost all the scientific python packages are hosted on GitHub: the \"issues\" tab is where to report bugs. Read the excellent [Craft Minimal Bug Reports](http://matthewrocklin.com/blog/work/2018/02/28/minimal-bug-reports) article from Matt Rocklin before doing so."
   ]
  },
  {
   "cell_type": "code",
   "execution_count": null,
   "id": "af3d62b7-6523-4dea-bc19-db97eca95012",
   "metadata": {},
   "outputs": [],
   "source": []
  }
 ],
 "metadata": {
  "kernelspec": {
   "display_name": "Python 3 (ipykernel)",
   "language": "python",
   "name": "python3"
  },
  "language_info": {
   "codemirror_mode": {
    "name": "ipython",
    "version": 3
   },
   "file_extension": ".py",
   "mimetype": "text/x-python",
   "name": "python",
   "nbconvert_exporter": "python",
   "pygments_lexer": "ipython3",
   "version": "3.13.7"
  }
 },
 "nbformat": 4,
 "nbformat_minor": 5
}