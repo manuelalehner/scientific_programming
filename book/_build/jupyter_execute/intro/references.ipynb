{
 "cells": [
  {
   "cell_type": "markdown",
   "metadata": {},
   "source": [
    "# External resources "
   ]
  },
  {
   "cell_type": "markdown",
   "metadata": {},
   "source": [
    "Resources used (and linked) in these lecture notes. New links will be added throughout the semester as we cover new content.\n",
    "\n",
    "**Prerequisites:**\n",
    "- [Programming for Everybody (Getting Started with Python)](https://www.edx.org/course/programming-for-everybody-getting-started-with-python) from EdX: if you have no programming experience, this is recommended *before* you take this lecture, this will guide you through the first programming steps. If you are able to learn by yourself, the textbook is [available for free](https://www.py4e.com).\n",
    "\n",
    "**Linux and bash scripting:**\n",
    "- [Ryan's Tutorials](https://ryanstutorials.net/) for the linux command line and bash scripting are entertaining and well designed.\n",
    "\n",
    "**Python tutorials:**\n",
    "- The [official tutorial](https://docs.python.org/3/tutorial/index.html), always a good place to start.\n",
    "- [Real Python tutorials](https://realpython.com/) cover a wide range of topics.\n",
    "\n",
    "**Python reference:**\n",
    "- The [python documentation](https://docs.python.org) is your best reference for any question related to the language and the standard library."
   ]
  },
  {
   "cell_type": "code",
   "execution_count": null,
   "metadata": {},
   "outputs": [],
   "source": []
  }
 ],
 "metadata": {
  "kernelspec": {
   "display_name": "Python 3 (ipykernel)",
   "language": "python",
   "name": "python3"
  },
  "language_info": {
   "codemirror_mode": {
    "name": "ipython",
    "version": 3
   },
   "file_extension": ".py",
   "mimetype": "text/x-python",
   "name": "python",
   "nbconvert_exporter": "python",
   "pygments_lexer": "ipython3",
   "version": "3.13.7"
  }
 },
 "nbformat": 4,
 "nbformat_minor": 4
}