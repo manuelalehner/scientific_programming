{
 "cells": [
  {
   "cell_type": "markdown",
   "metadata": {},
   "source": [
    "# Modules, import mechanism, namespaces, and scope(s)"
   ]
  },
  {
   "cell_type": "markdown",
   "metadata": {},
   "source": [
    "In this chapter we will dive into one of the most important features of Python: the ``import`` mechanism. We will explain why modules are useful, how to \"import\" them, and how you can write one yourself."
   ]
  },
  {
   "cell_type": "markdown",
   "metadata": {},
   "source": [
    "## Variable scopes"
   ]
  },
  {
   "cell_type": "markdown",
   "metadata": {},
   "source": [
    "The **scope** of a variable is the region of the program where the variable is valid, i.e. the \"location\" where the variable name can be used to refer to the data it links to. Let's consider this first example:"
   ]
  },
  {
   "cell_type": "code",
   "execution_count": 1,
   "metadata": {},
   "outputs": [
    {
     "ename": "NameError",
     "evalue": "name 'i' is not defined",
     "output_type": "error",
     "traceback": [
      "\u001b[31m---------------------------------------------------------------------------\u001b[39m",
      "\u001b[31mNameError\u001b[39m                                 Traceback (most recent call last)",
      "\u001b[36mCell\u001b[39m\u001b[36m \u001b[39m\u001b[32mIn[1]\u001b[39m\u001b[32m, line 5\u001b[39m\n\u001b[32m      2\u001b[39m     i = \u001b[32m5\u001b[39m\n\u001b[32m      3\u001b[39m     \u001b[38;5;28mprint\u001b[39m(i, \u001b[33m'\u001b[39m\u001b[33min foo()\u001b[39m\u001b[33m'\u001b[39m)\n\u001b[32m----> \u001b[39m\u001b[32m5\u001b[39m \u001b[38;5;28mprint\u001b[39m(\u001b[43mi\u001b[49m, \u001b[33m'\u001b[39m\u001b[33mglobal\u001b[39m\u001b[33m'\u001b[39m)  \u001b[38;5;66;03m# will throw an error\u001b[39;00m\n",
      "\u001b[31mNameError\u001b[39m: name 'i' is not defined"
     ]
    }
   ],
   "source": [
    "def foo():\n",
    "    i = 5\n",
    "    print(i, 'in foo()')\n",
    "\n",
    "print(i, 'global')  # will throw an error"
   ]
  },
  {
   "cell_type": "markdown",
   "metadata": {},
   "source": [
    "It does not work because the name ``i`` is defined in the function `foo`, which we defined but never called (you can see this because nothing is printed), so the function's statements were actually never run. \n",
    "\n",
    "Let's see if the following example works better:"
   ]
  },
  {
   "cell_type": "code",
   "execution_count": 2,
   "metadata": {},
   "outputs": [
    {
     "name": "stdout",
     "output_type": "stream",
     "text": [
      "5 in foo()\n"
     ]
    },
    {
     "ename": "NameError",
     "evalue": "name 'i' is not defined",
     "output_type": "error",
     "traceback": [
      "\u001b[31m---------------------------------------------------------------------------\u001b[39m",
      "\u001b[31mNameError\u001b[39m                                 Traceback (most recent call last)",
      "\u001b[36mCell\u001b[39m\u001b[36m \u001b[39m\u001b[32mIn[2]\u001b[39m\u001b[32m, line 7\u001b[39m\n\u001b[32m      3\u001b[39m     \u001b[38;5;28mprint\u001b[39m(i, \u001b[33m'\u001b[39m\u001b[33min foo()\u001b[39m\u001b[33m'\u001b[39m)\n\u001b[32m      5\u001b[39m foo()\n\u001b[32m----> \u001b[39m\u001b[32m7\u001b[39m \u001b[38;5;28mprint\u001b[39m(\u001b[43mi\u001b[49m, \u001b[33m'\u001b[39m\u001b[33mglobal\u001b[39m\u001b[33m'\u001b[39m)   \u001b[38;5;66;03m# will throw an error\u001b[39;00m\n",
      "\u001b[31mNameError\u001b[39m: name 'i' is not defined"
     ]
    }
   ],
   "source": [
    "def foo():\n",
    "    i = 5\n",
    "    print(i, 'in foo()')\n",
    "\n",
    "foo()\n",
    "\n",
    "print(i, 'global')   # will throw an error"
   ]
  },
  {
   "cell_type": "markdown",
   "metadata": {},
   "source": [
    "Here, the function is called and ``i`` is defined and equal to 5. However, the *scope* of the variable `i` is the block defined by the function ``foo``: outside of this scope the variable does not exist anymore, leading to the `NameError` at the global scope. \n",
    "\n",
    "If this is understood, the following example might be clear as well?"
   ]
  },
  {
   "cell_type": "code",
   "execution_count": 3,
   "metadata": {},
   "outputs": [
    {
     "name": "stdout",
     "output_type": "stream",
     "text": [
      "1 global before foo()\n",
      "5 in foo()\n",
      "1 global after foo()\n"
     ]
    }
   ],
   "source": [
    "i = 1\n",
    "\n",
    "def foo():\n",
    "    i = 5\n",
    "    print(i, 'in foo()')\n",
    "\n",
    "print(i, 'global before foo()')\n",
    "\n",
    "foo()\n",
    "\n",
    "print(i, 'global after foo()')"
   ]
  },
  {
   "cell_type": "markdown",
   "metadata": {},
   "source": [
    "The **global scope** refers to the highest scope level (the module or, in interactive mode, the interpreter). The function's scope in turn is called **local scope**. One says that the global scope prevails because what is possible in one direction is not possible in the other:"
   ]
  },
  {
   "cell_type": "code",
   "execution_count": 4,
   "metadata": {},
   "outputs": [
    {
     "name": "stdout",
     "output_type": "stream",
     "text": [
      "2 is there a k in foo()?\n"
     ]
    }
   ],
   "source": [
    "k = 2\n",
    "\n",
    "def foo():\n",
    "    print(k, 'is there a k in foo()?')\n",
    "\n",
    "foo()"
   ]
  },
  {
   "cell_type": "markdown",
   "metadata": {},
   "source": [
    "Yes, `k` is available in `foo()`: global variables are *also* available in the *nested* local scopes. They can be overridden locally (like in the example above), but this change will not be visible at the global scope level."
   ]
  },
  {
   "cell_type": "markdown",
   "metadata": {},
   "source": [
    "## Modules "
   ]
  },
  {
   "cell_type": "markdown",
   "metadata": {},
   "source": [
    "Python **modules** are used to store a collection of functions and variables that can be imported into other modules or into the [main environment](https://docs.python.org/3/library/__main__.html).\n",
    "\n",
    "A module is a file containing Python definitions and statements. The file name is the module name with the suffix `.py` appended. \n",
    "\n",
    "For instance, I used my favorite text editor to create a file called `greetings.py` with the following content:\n",
    "\n",
    "`greetings.py:`\n",
    "\n",
    "```python\n",
    "\"\"\"A module to say hi in several langages.\"\"\"\n",
    "\n",
    "base = {\n",
    "    'en': 'Hi {}!',\n",
    "    'fr': 'Salut {}!',\n",
    "    'cn': '你好 {}!',\n",
    "}\n",
    "\n",
    "\n",
    "def say_hi(name, language='en'):\n",
    "    \"\"\"Say hi in the current language.\"\"\"\n",
    "    print(base[language].format(name))\n",
    "```"
   ]
  },
  {
   "cell_type": "markdown",
   "metadata": {},
   "source": [
    "I copied this file into the current **working directory** (this \"detail\" is important, as we will see below). From the (I)Python interpreter I can now import this module with the following command:"
   ]
  },
  {
   "cell_type": "code",
   "execution_count": 5,
   "metadata": {},
   "outputs": [],
   "source": [
    "import greetings"
   ]
  },
  {
   "cell_type": "markdown",
   "metadata": {},
   "source": [
    "By importing the module, I have access to the functions it contains:"
   ]
  },
  {
   "cell_type": "code",
   "execution_count": 6,
   "metadata": {},
   "outputs": [
    {
     "name": "stdout",
     "output_type": "stream",
     "text": [
      "Hi Fabi!\n"
     ]
    }
   ],
   "source": [
    "greetings.say_hi('Fabi')"
   ]
  },
  {
   "cell_type": "code",
   "execution_count": 7,
   "metadata": {},
   "outputs": [
    {
     "name": "stdout",
     "output_type": "stream",
     "text": [
      "你好 Jan!\n"
     ]
    }
   ],
   "source": [
    "greetings.say_hi('Jan', language='cn')"
   ]
  },
  {
   "cell_type": "markdown",
   "metadata": {},
   "source": [
    "But also to the global variables defined at the top level:"
   ]
  },
  {
   "cell_type": "code",
   "execution_count": 8,
   "metadata": {},
   "outputs": [
    {
     "data": {
      "text/plain": [
       "{'en': 'Hi {}!', 'fr': 'Salut {}!', 'cn': '你好 {}!'}"
      ]
     },
     "execution_count": 8,
     "metadata": {},
     "output_type": "execute_result"
    }
   ],
   "source": [
    "greetings.base"
   ]
  },
  {
   "cell_type": "markdown",
   "metadata": {},
   "source": [
    "```{exercise}\n",
    "Repeat the steps above on your laptop and do additional experiments / ask questions until these variable scope mechanisms are well understood.\n",
    "```"
   ]
  },
  {
   "cell_type": "markdown",
   "metadata": {},
   "source": [
    "## Namespaces "
   ]
  },
  {
   "cell_type": "markdown",
   "metadata": {},
   "source": [
    "Global variables in modules or scripts are useful, but *they should be used with care*. Indeed, since they are available from everywhere in the module, the **namespace** can quickly become \"polluted\": for large modules, it becomes hard to keep track of all variables. This can become even more complicated when new modules with their own new variables and functions are used as well.\n",
    "\n",
    "Fortunately, the global scope is constrained to the current script or module, and using external modules is unlikely to cause confusion thanks to the ``import`` mechanism:"
   ]
  },
  {
   "cell_type": "code",
   "execution_count": 9,
   "metadata": {},
   "outputs": [
    {
     "name": "stdout",
     "output_type": "stream",
     "text": [
      "<module 'math' from '/home/c707201/mambaforge/envs/scipro/lib/python3.13/lib-dynload/math.cpython-313-x86_64-linux-gnu.so'>\n",
      "3.14 3.141592653589793\n"
     ]
    }
   ],
   "source": [
    "pi = 3.14\n",
    "import math\n",
    "print(math)\n",
    "print(pi, math.pi)"
   ]
  },
  {
   "cell_type": "markdown",
   "metadata": {},
   "source": [
    "By importing the ``math`` module (available in python's **standard library**), we have access to a new variable called `math`. The variable `math` has the type `module`, and provides new functions and variables (such as `math.pi`). What are all these functions and variables? Let's use the built-in `dir()` function to find out:"
   ]
  },
  {
   "cell_type": "code",
   "execution_count": 10,
   "metadata": {},
   "outputs": [
    {
     "name": "stdout",
     "output_type": "stream",
     "text": [
      "['__doc__', '__file__', '__loader__', '__name__', '__package__', '__spec__', 'acos', 'acosh', 'asin', 'asinh', 'atan', 'atan2', 'atanh', 'cbrt', 'ceil', 'comb', 'copysign', 'cos', 'cosh', 'degrees', 'dist', 'e', 'erf', 'erfc', 'exp', 'exp2', 'expm1', 'fabs', 'factorial', 'floor', 'fma', 'fmod', 'frexp', 'fsum', 'gamma', 'gcd', 'hypot', 'inf', 'isclose', 'isfinite', 'isinf', 'isnan', 'isqrt', 'lcm', 'ldexp', 'lgamma', 'log', 'log10', 'log1p', 'log2', 'modf', 'nan', 'nextafter', 'perm', 'pi', 'pow', 'prod', 'radians', 'remainder', 'sin', 'sinh', 'sqrt', 'sumprod', 'tan', 'tanh', 'tau', 'trunc', 'ulp']\n"
     ]
    }
   ],
   "source": [
    "print(dir(math))"
   ]
  },
  {
   "cell_type": "markdown",
   "metadata": {},
   "source": [
    "```{exercise} \n",
    "Ask the IPython documentation about ``dir`` (remember how?)\n",
    "```"
   ]
  },
  {
   "cell_type": "markdown",
   "metadata": {},
   "source": [
    "Like our `greetings` module, the `math` module contains functions (e.g. ``math.radians``) as well as variables (e.g. ``math.nan`` or ``math.pi``). For Python there is no fundamental difference between variables and functions: they are all simply **attributes** of the `math` module and therefore listed by `dir` (we will get back to attributes later: for now, remember the dot `.` syntax, `dir` and `TAB` autocompletion). Some of the attributes listed by `dir` have a prefix of two underscores ``__``. We will get back to them soon."
   ]
  },
  {
   "cell_type": "markdown",
   "metadata": {},
   "source": [
    "There are several ways to import a module. See these four examples:"
   ]
  },
  {
   "cell_type": "code",
   "execution_count": 11,
   "metadata": {},
   "outputs": [
    {
     "data": {
      "text/plain": [
       "1.0"
      ]
     },
     "execution_count": 11,
     "metadata": {},
     "output_type": "execute_result"
    }
   ],
   "source": [
    "# A\n",
    "# Import an entire module and access its attributes with a \"dot\"\n",
    "import math\n",
    "math.sin(math.pi/2)"
   ]
  },
  {
   "cell_type": "code",
   "execution_count": 12,
   "metadata": {},
   "outputs": [
    {
     "data": {
      "text/plain": [
       "1.0"
      ]
     },
     "execution_count": 12,
     "metadata": {},
     "output_type": "execute_result"
    }
   ],
   "source": [
    "# B\n",
    "# Same as A, but store the module under a new variable named \"ma\"\n",
    "import math as ma\n",
    "ma.sin(ma.pi/2)"
   ]
  },
  {
   "cell_type": "code",
   "execution_count": 13,
   "metadata": {},
   "outputs": [
    {
     "data": {
      "text/plain": [
       "1.0"
      ]
     },
     "execution_count": 13,
     "metadata": {},
     "output_type": "execute_result"
    }
   ],
   "source": [
    "# C\n",
    "# Import the attributes sin and pi *only*\n",
    "from math import sin, pi\n",
    "sin(pi/2)"
   ]
  },
  {
   "cell_type": "code",
   "execution_count": 14,
   "metadata": {},
   "outputs": [
    {
     "data": {
      "text/plain": [
       "1.0"
      ]
     },
     "execution_count": 14,
     "metadata": {},
     "output_type": "execute_result"
    }
   ],
   "source": [
    "# D\n",
    "# Import everything from the module and add it in our global scope\n",
    "from math import *\n",
    "sin(pi/2)"
   ]
  },
  {
   "cell_type": "markdown",
   "metadata": {},
   "source": [
    "All four options lead to the same result: they compute the sine of π/2.\n",
    "\n",
    "Now, which one to use? It is up to you, but there are some implicit rules (conventions) which are widely accepted:\n",
    "\n",
    ":::{important}\n",
    "  1. In case of doubt, use option A. It is the most readable and the most *explicit*.\n",
    "  2. The exception to the first rule is when the library has a naming convention for its acronym. A good example is `numpy`, which [recommends to use](https://numpy.org/doc/stable/user/absolute_beginners.html#how-to-import-numpy) ``import numpy as np``.\n",
    "  3. Option C might be useful if the names you are importing are very explicit, and if you expect to use them often in your script. Otherwise, it is not recommended.\n",
    "  4. Option D is bad. Do not use it. \n",
    "  5. You can make an exception to rule 4 when working in the command line and exploring data. Never use option 4 in scripts. \n",
    ":::"
   ]
  },
  {
   "cell_type": "markdown",
   "metadata": {},
   "source": [
    "```{exercise}\n",
    "Try to find arguments why option D is a bad idea.\n",
    "```"
   ]
  },
  {
   "cell_type": "markdown",
   "metadata": {},
   "source": [
    "(content:syspath)=\n",
    "## sys.path "
   ]
  },
  {
   "cell_type": "markdown",
   "metadata": {},
   "source": [
    "But how does Python know where to look for modules when you type ``import mymodule`` in the interpreter? Well, it relies on a mechanism very similar to Linux's ``PATH`` environment variable. Remember this one? Within Python, the directories where the interpreter will look for modules to import are listed in [sys.path](https://docs.python.org/3/library/sys.html#sys.path):"
   ]
  },
  {
   "cell_type": "code",
   "execution_count": 15,
   "metadata": {},
   "outputs": [
    {
     "data": {
      "text/plain": [
       "['/home/c707201/mambaforge/envs/scipro/lib/python313.zip',\n",
       " '/home/c707201/mambaforge/envs/scipro/lib/python3.13',\n",
       " '/home/c707201/mambaforge/envs/scipro/lib/python3.13/lib-dynload',\n",
       " '',\n",
       " '/home/c707201/mambaforge/envs/scipro/lib/python3.13/site-packages']"
      ]
     },
     "execution_count": 15,
     "metadata": {},
     "output_type": "execute_result"
    }
   ],
   "source": [
    "import sys\n",
    "sys.path"
   ]
  },
  {
   "cell_type": "markdown",
   "metadata": {},
   "source": [
    "Similar to the Linux ``PATH`` mechanism, Python will look into each of these directories *in order*. It contains the current working directory (an empty string) and the rest of the list may vary depending on your environment. When a file called ``mymodule.py`` is found, it is imported once (and only once) and added to the ``sys.modules`` variable, effectively telling Python that the module has already been imported. **This means that if you change the file and import it again, nothing will change**. Fortunately, there are ways to avoid this behavior (see below)."
   ]
  },
  {
   "cell_type": "markdown",
   "metadata": {},
   "source": [
    "As you can see, there are many folders related to ``mambaforge``, the tool we used to install Python. This makes sense, because we want Python to look for modules related to *our* installation of Python (not the one used by our operating system). In particular, the ``site-packages`` folder is of interest to us. If you look into this folder using the Linux command line or IPython's [magic commands](https://ipython.readthedocs.io/en/stable/interactive/magics.html) you will find the many packages we already installed together last week.\n",
    "\n",
    "You can edit ``sys.path`` at your wish and add new folders to it, exactly as you would with the ``PATH`` environment variable in Linux. In practice, however, it is recommended to use standard folders to install your packages instead of messing around with ``sys.path``. I personally never had to change `sys.path` in my scripts, but it can come handy if you want to use a collection of modules that you have not \"packaged\" yet: in this case, you can put all modules in a folder and add it to `sys.path` with:"
   ]
  },
  {
   "cell_type": "code",
   "execution_count": 16,
   "metadata": {},
   "outputs": [],
   "source": [
    "import sys\n",
    "sys.path.append('/path/to/a/folder')"
   ]
  },
  {
   "cell_type": "markdown",
   "metadata": {},
   "source": [
    "But this will add the folder to the current session or script only. To add a folder permanently, you can use the [PYTHONPATH](https://docs.python.org/3/using/cmdline.html?highlight=pythonpath#envvar-PYTHONPATH) environment variable."
   ]
  },
  {
   "cell_type": "markdown",
   "metadata": {},
   "source": [
    "```{exercise}\n",
    "Print your own `sys.path` on your laptop and explore the folders listed there. \n",
    "\n",
    "Now let's play with ``sys.path`` a little. Create a fake module called ``matplotlib.py`` in your current working directory. Open a python interpreter and ``import matplotlib``. Which of the modules (the official or the fake one) is loaded by Python, and why?\n",
    "```"
   ]
  },
  {
   "cell_type": "markdown",
   "metadata": {},
   "source": [
    "Because of this \"feature\", it is important to find meaningful (and unique) names for your own modules (do not forget to delete the fake ``matplotlib`` module after trying that out!)."
   ]
  },
  {
   "cell_type": "markdown",
   "metadata": {},
   "source": [
    "*Note: the \"matplotlib trick\" above does not work with modules of the standard library, because built-in modules are imported as part of the interpreter's startup process.*"
   ]
  },
  {
   "cell_type": "markdown",
   "metadata": {},
   "source": [
    "## Reimporting modules "
   ]
  },
  {
   "cell_type": "markdown",
   "metadata": {},
   "source": [
    "Of course, there is a lot more behind an `import` statement than this short summary (see the [documentation](https://docs.python.org/3/reference/simple_stmts.html#import) for a more comprehensive overview). What you should remember however is that an import statement is not computationally cheap: it has to look for a file among many folders, compile the Python code to bytecode, add the module to a registry, ... Actually, for all the things it does, it is quite fast already! \n",
    "\n",
    "Since `import` statements are used all the time in Python, it is a good idea to optimize them: therefore, Python will not re-import a module that is imported already. \n",
    "\n",
    "Most of the time this is not a problem, but sometimes (mostly in interactive development) it might be useful to make changes to a module and having them available at the command line without having to restart a fresh Python interpreter each time. To do this, there are two mechanisms available to you:"
   ]
  },
  {
   "cell_type": "markdown",
   "metadata": {},
   "source": [
    "1. Using Python's [importlib.reload()](https://docs.python.org/3/library/importlib.html#importlib.reload) function:"
   ]
  },
  {
   "cell_type": "code",
   "execution_count": 17,
   "metadata": {},
   "outputs": [
    {
     "data": {
      "text/plain": [
       "<module 'greetings' from '/home/c707201/teaching/UIBK_ScientificProgramming/UIBK_ProgrammingMS_Winter2025/scientific_programming/book/unit_04/greetings.py'>"
      ]
     },
     "execution_count": 17,
     "metadata": {},
     "output_type": "execute_result"
    }
   ],
   "source": [
    "import importlib\n",
    "importlib.reload(greetings)"
   ]
  },
  {
   "cell_type": "markdown",
   "metadata": {},
   "source": [
    "This can reimport a module which has been imported before (i.e. it will not search for it again). But this has to be done *each time* you change a module, making it quite cumbersome in interactive mode. Here again, IPython comes with a more flexible solution:"
   ]
  },
  {
   "cell_type": "markdown",
   "metadata": {},
   "source": [
    "2. Using IPython's [autoreload](https://ipython.readthedocs.io/en/stable/config/extensions/autoreload.html) extension:"
   ]
  },
  {
   "cell_type": "markdown",
   "metadata": {},
   "source": [
    "```python\n",
    "%load_ext autoreload\n",
    "%autoreload \n",
    "```"
   ]
  },
  {
   "cell_type": "markdown",
   "metadata": {},
   "source": [
    "From now on, `autoreload` will make sure that all modules are reloaded automatically before entering the execution of code typed at the IPython prompt."
   ]
  },
  {
   "cell_type": "markdown",
   "metadata": {},
   "source": [
    "## Executing modules as scripts "
   ]
  },
  {
   "cell_type": "markdown",
   "metadata": {},
   "source": [
    "You have already learned that importing modules actually *runs* them, the same way as `$ python mymodule.py` (from the Linux terminal) or `%run mymodule.py` (in IPython) would. This can have some undesired consequences: what if, for example, you would like certain things to happen when the module is run as script but *not* when being imported?\n",
    "\n",
    "There is a mechanism that allows to do exactly this. Add the following block of code at the end of the `greetings.py` module:\n",
    "\n",
    "```python\n",
    "if __name__ == '__main__':\n",
    "    # execute only if run as a script\n",
    "    import sys\n",
    "    nargs = len(sys.argv)\n",
    "    if nargs == 3:\n",
    "        say_hi(sys.argv[1], language=sys.argv[2])\n",
    "    else:\n",
    "        print('Syntax:')\n",
    "        print('%run greetings.py name language')\n",
    "        print('Languages available: {}'.format(list(base)))\n",
    "```"
   ]
  },
  {
   "cell_type": "markdown",
   "metadata": {},
   "source": [
    "Now you can execute your script like this:"
   ]
  },
  {
   "cell_type": "code",
   "execution_count": 18,
   "metadata": {},
   "outputs": [
    {
     "name": "stdout",
     "output_type": "stream",
     "text": [
      "Salut Fabi!\n"
     ]
    }
   ],
   "source": [
    "%run greetings.py Fabi fr"
   ]
  },
  {
   "cell_type": "markdown",
   "metadata": {},
   "source": [
    "But importing it will produce no output:"
   ]
  },
  {
   "cell_type": "code",
   "execution_count": 19,
   "metadata": {},
   "outputs": [],
   "source": [
    "import greetings"
   ]
  },
  {
   "cell_type": "markdown",
   "metadata": {},
   "source": [
    "How does this work exactly? The important bit is the `if __name__ == '__main__':` line. `__name__` (and all other attributes starting and ending with two underscores) is \"reserved\" by the language. They are no different than other variables, but you should not erase or replace them since they contain useful information and might be used by other tools. For example:"
   ]
  },
  {
   "cell_type": "code",
   "execution_count": 20,
   "metadata": {},
   "outputs": [
    {
     "data": {
      "text/plain": [
       "'A module to say hi in several langages.'"
      ]
     },
     "execution_count": 20,
     "metadata": {},
     "output_type": "execute_result"
    }
   ],
   "source": [
    "greetings.__doc__  # the documentation of the module as string"
   ]
  },
  {
   "cell_type": "code",
   "execution_count": 21,
   "metadata": {},
   "outputs": [
    {
     "data": {
      "text/plain": [
       "'greetings'"
      ]
     },
     "execution_count": 21,
     "metadata": {},
     "output_type": "execute_result"
    }
   ],
   "source": [
    "greetings.__name__  # the name of the module as string"
   ]
  },
  {
   "cell_type": "markdown",
   "metadata": {},
   "source": [
    "Now, back to our script: the statement `if __name__ == '__main__'` is going to be false when the module is imported (since the name is `greetings`), but obviously true when the module is run as a script. Indeed, `__name__` is set to `__main__` when executed."
   ]
  },
  {
   "cell_type": "markdown",
   "metadata": {},
   "source": [
    "## Take home points"
   ]
  },
  {
   "cell_type": "markdown",
   "metadata": {},
   "source": [
    "- Variables are defined in a **scope**, and we learned about two scopes: **local** and **global**. There are precise rules as to how each scope can interact with the other. As a general rule: global variables are available in nested scopes and cannot be overwritten, and local variables are not available in the global scope.\n",
    "- The import mechanism is useful to avoid **namespace pollution**. Modules come with their own namespace, and it is recommended to keep each module's namespace clean (i.e. no ``from XYZ import *``).\n",
    "- Python borrowed the ``PATH`` mechanism from Linux and uses a similar logic to look for modules and packages. Installing a new module is therefore super easy: just put a ``mymodule.py`` in the right place and do not mess with the existing modules!\n",
    "- The `%autoreload` command from IPython allows to dynamically change a module while using it at the command line.\n",
    "- When writing scripts, always put the code that needs to be executed in an `if __name__ == '__main__'` block: that way, your script can be executed and the functions can also be imported without running the script."
   ]
  },
  {
   "cell_type": "code",
   "execution_count": null,
   "metadata": {},
   "outputs": [],
   "source": []
  }
 ],
 "metadata": {
  "hide_input": false,
  "kernelspec": {
   "display_name": "Python 3 (ipykernel)",
   "language": "python",
   "name": "python3"
  },
  "language_info": {
   "codemirror_mode": {
    "name": "ipython",
    "version": 3
   },
   "file_extension": ".py",
   "mimetype": "text/x-python",
   "name": "python",
   "nbconvert_exporter": "python",
   "pygments_lexer": "ipython3",
   "version": "3.13.7"
  },
  "latex_envs": {
   "LaTeX_envs_menu_present": true,
   "autoclose": false,
   "autocomplete": true,
   "bibliofile": "biblio.bib",
   "cite_by": "apalike",
   "current_citInitial": 1,
   "eqLabelWithNumbers": true,
   "eqNumInitial": 1,
   "hotkeys": {
    "equation": "Ctrl-E",
    "itemize": "Ctrl-I"
   },
   "labels_anchors": false,
   "latex_user_defs": false,
   "report_style_numbering": false,
   "user_envs_cfg": false
  },
  "nbTranslate": {
   "displayLangs": [
    "*"
   ],
   "hotkey": "alt-t",
   "langInMainMenu": true,
   "sourceLang": "en",
   "targetLang": "fr",
   "useGoogleTranslate": true
  },
  "toc": {
   "base_numbering": "7",
   "nav_menu": {},
   "number_sections": true,
   "sideBar": true,
   "skip_h1_title": false,
   "title_cell": "Table of Contents",
   "title_sidebar": "Contents",
   "toc_cell": true,
   "toc_position": {
    "height": "750px",
    "left": "725px",
    "top": "111.133px",
    "width": "384px"
   },
   "toc_section_display": true,
   "toc_window_display": true
  }
 },
 "nbformat": 4,
 "nbformat_minor": 4
}