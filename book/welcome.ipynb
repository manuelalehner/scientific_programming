{
 "cells": [
  {
   "cell_type": "markdown",
   "metadata": {},
   "source": [
    "# Welcome"
   ]
  },
  {
   "cell_type": "markdown",
   "metadata": {},
   "source": [
    "These are the lecture notes for the course <a href=\"https://lfuonline.uibk.ac.at/public/lfuonline_lv.details?sem_id_in=25W&lvnr_id_in=707716&sprache_in=en\">707716 - Scientific Programming</a> taught at the [University of Innsbruck](https://www.uibk.ac.at/en/) as part of the [Master's Programme Atmospheric and Cyrosphric Sciences](https://www.uibk.ac.at/acinn/studies/master-in-atmospheric-sciences/) of the Department of Atmospheric and Cryospheric Sciences ([ACINN](https://www.uibk.ac.at/acinn))."
   ]
  },
  {
   "cell_type": "markdown",
   "metadata": {},
   "source": [
    "![](img/welcome_img.jpg)"
   ]
  },
  {
   "cell_type": "markdown",
   "metadata": {},
   "source": [
    "## Authors"
   ]
  },
  {
   "cell_type": "markdown",
   "metadata": {},
   "source": [
    "- [Fabien Maussion](http://fabienmaussion.info/) wrote these notes (unless specified otherwise) while teaching this class for several years at the University of Innsbruck.\n",
    "- [Manuela Lehner](https://www.uibk.ac.at/en/acinn/people/manuela-lehner/) has been making adjustments to the lecture notes since she has taken over the course in 2023.\n",
    "- Matthias Göbel and [Lilian Schuster](https://www.uibk.ac.at/acinn/people/lilian-schuster/) (student assistants in 2018 and 2019) reviewed and proofread the lecture notes."
   ]
  },
  {
   "cell_type": "markdown",
   "metadata": {},
   "source": [
    "**To access last year's course** (winter semester 2024), visit: [https://manuelalehner.github.io/scientific_programming_2024](https://manuelalehner.github.io/scientific_programming_2024)"
   ]
  }
 ],
 "metadata": {
  "hide_input": false,
  "kernelspec": {
   "display_name": "Python 3 (ipykernel)",
   "language": "python",
   "name": "python3"
  },
  "language_info": {
   "codemirror_mode": {
    "name": "ipython",
    "version": 3
   },
   "file_extension": ".py",
   "mimetype": "text/x-python",
   "name": "python",
   "nbconvert_exporter": "python",
   "pygments_lexer": "ipython3",
   "version": "3.13.7"
  },
  "latex_envs": {
   "LaTeX_envs_menu_present": true,
   "autoclose": false,
   "autocomplete": true,
   "bibliofile": "biblio.bib",
   "cite_by": "apalike",
   "current_citInitial": 1,
   "eqLabelWithNumbers": true,
   "eqNumInitial": 1,
   "hotkeys": {
    "equation": "Ctrl-E",
    "itemize": "Ctrl-I"
   },
   "labels_anchors": false,
   "latex_user_defs": false,
   "report_style_numbering": false,
   "user_envs_cfg": false
  },
  "nbTranslate": {
   "displayLangs": [
    "*"
   ],
   "hotkey": "alt-t",
   "langInMainMenu": true,
   "sourceLang": "en",
   "targetLang": "fr",
   "useGoogleTranslate": true
  },
  "toc": {
   "base_numbering": 1,
   "nav_menu": {},
   "number_sections": false,
   "sideBar": true,
   "skip_h1_title": false,
   "title_cell": "Table of Contents",
   "title_sidebar": "Contents",
   "toc_cell": false,
   "toc_position": {},
   "toc_section_display": "block",
   "toc_window_display": true
  }
 },
 "nbformat": 4,
 "nbformat_minor": 4
}
