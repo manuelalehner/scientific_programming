{
 "cells": [
  {
   "cell_type": "markdown",
   "metadata": {},
   "source": [
    "# For Windows users: the difference between the command prompt, the miniforge prompt, and the Python interpreter "
   ]
  },
  {
   "cell_type": "markdown",
   "metadata": {},
   "source": [
    "Many of you have opened a prompt (a terminal) for the first time in this class. **There is nothing to be afraid of**. You will use the prompt very often, but you won't need it for anything else than starting python, jupyterlab, or any other python tool of your choice.\n",
    "\n",
    "## The command prompt (or `cmd.exe`)\n",
    "\n",
    "You will find it by typing `cmd` in the windows search bar:\n",
    "\n",
    "<img src=\"../img/unit01_windows_cmd.png\" width=\"400\"> <br>\n",
    "\n",
    "In the command prompt, you can do many things, but the one thing you will really need is to **navigate** to the folder of your choice. The name of the currently active folder is always indicated at the start of the command line.\n",
    "\n",
    "Only a few commands are necessary for this class:\n",
    "- `help`: seeing the list of commands available\n",
    "- `dir`: list the directories (folders) in the current location\n",
    "- `cd FolderName`: navigate to the folder FolderName\n",
    "- `cd ..`: navigate one folder up\n",
    "- `TAB`: ask the command prompt to complete the name for you. For example, if you are lazy and type only two letters of the desired folder, typing `TAB` might complete it for you\n",
    "- `exit`: exit the prompt (you can also simply close the window)\n",
    "\n",
    "That's it! The reason why you need to be able to navigate to a specific folder will be explained in the next lesson.\n",
    "\n",
    "## The miniforge prompt\n",
    "\n",
    "You will find it by typing \"miniforge\" in the windows search bar:\n",
    "\n",
    "<img src=\"../img/unit01_windows_miniforge_prompt.png\" width=\"400\"> <br>\n",
    "\n",
    "You will recognize that you are in a miniforge prompt by the title of the window and the `(base)` text before the location:\n",
    "\n",
    "<img src=\"../img/unit01_windows_miniforge_prompt_terminal.png\" width=\"600\"> <br>\n",
    "\n",
    "**The miniforge prompt is exactly like the command prompt, BUT it has python installed in it**. All the commands explained above work in the miniforge prompt as well, but the following new commands are now available to you as well:\n",
    "- all the `mamba` commands (`mamba list`, `mamba install`, ...)\n",
    "- opening a python interpreter (`python`, and later also `ipython`, `jupyter-lab`) \n",
    "\n",
    "**In practice, you will actually never open the command prompt, but always the miniforge prompt. You will use it to navigate to a folder and then start a python interpreter.**\n",
    "\n",
    "## The python interpreter\n",
    "\n",
    "The python interpreter can be opened in many different ways, but the way you learn first is to start it from the miniforge prompt. The python interpreter is recognizable by the three \"greater than\" signs at the beginning of the command line `>>>`. The python interpreter is where the python commands are valid.\n",
    "\n",
    "```{admonition} Be aware of the context\n",
    ":class: important\n",
    "\n",
    "Be aware of the interpreter your are using. To summarize:\n",
    "- In the command prompt, you can navigate between folders (`cd`, `dir`, etc.).\n",
    "- In the miniforge prompt, you can navigate between folders AND you can install python packages (`mamba`) and start python (`python` or `jupyter-lab`).\n",
    "- In the python interpreter, you can type python commands and much much more.\n",
    "```"
   ]
  },
  {
   "cell_type": "code",
   "execution_count": null,
   "metadata": {},
   "outputs": [],
   "source": []
  }
 ],
 "metadata": {
  "hide_input": false,
  "kernelspec": {
   "display_name": "Python 3 (ipykernel)",
   "language": "python",
   "name": "python3"
  },
  "language_info": {
   "codemirror_mode": {
    "name": "ipython",
    "version": 3
   },
   "file_extension": ".py",
   "mimetype": "text/x-python",
   "name": "python",
   "nbconvert_exporter": "python",
   "pygments_lexer": "ipython3",
   "version": "3.13.7"
  },
  "toc": {
   "base_numbering": 2,
   "nav_menu": {},
   "number_sections": true,
   "sideBar": true,
   "skip_h1_title": false,
   "title_cell": "Table of Contents",
   "title_sidebar": "Contents",
   "toc_cell": true,
   "toc_position": {},
   "toc_section_display": "block",
   "toc_window_display": true
  }
 },
 "nbformat": 4,
 "nbformat_minor": 4
}
